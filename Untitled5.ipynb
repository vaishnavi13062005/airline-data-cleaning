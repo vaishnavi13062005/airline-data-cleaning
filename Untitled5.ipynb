{
  "nbformat": 4,
  "nbformat_minor": 0,
  "metadata": {
    "colab": {
      "provenance": []
    },
    "kernelspec": {
      "name": "python3",
      "display_name": "Python 3"
    },
    "language_info": {
      "name": "python"
    }
  },
  "cells": [
    {
      "cell_type": "code",
      "execution_count": 1,
      "metadata": {
        "colab": {
          "base_uri": "https://localhost:8080/"
        },
        "id": "LN2WlyMVxUkH",
        "outputId": "8145f2e5-d7ae-4b99-e567-59874ec7ba00"
      },
      "outputs": [
        {
          "output_type": "stream",
          "name": "stdout",
          "text": [
            "Original Data (with duplicates and one missing value):\n",
            "\n",
            "         Date    Carrier  Flights  OnTime  CancelRate  AvgDelayMinutes\n",
            "0  2023-01-01      Delta   1200.0    88.5         1.2                9\n",
            "1  2023-01-01     United    950.0    82.3         2.0               15\n",
            "2  2023-01-01   American   1050.0    79.6         2.5               18\n",
            "3  2023-01-01  Southwest   1300.0    91.0         0.8                7\n",
            "4  2023-01-01     Alaska    800.0    85.2         1.0               12\n",
            "5  2023-01-01    JetBlue      NaN    77.5         3.2               20\n",
            "6  2023-01-01      Delta   1200.0    88.5         1.2                9\n",
            "\n",
            "Number of duplicate rows: 1\n",
            "\n",
            "Check for missing values (True means missing):\n",
            "\n",
            "    Date  Carrier  Flights  OnTime  CancelRate  AvgDelayMinutes\n",
            "0  False    False    False   False       False            False\n",
            "1  False    False    False   False       False            False\n",
            "2  False    False    False   False       False            False\n",
            "3  False    False    False   False       False            False\n",
            "4  False    False    False   False       False            False\n",
            "5  False    False     True   False       False            False\n",
            "6  False    False    False   False       False            False\n",
            "\n",
            "Total missing values per column:\n",
            "\n",
            "Date               0\n",
            "Carrier            0\n",
            "Flights            1\n",
            "OnTime             0\n",
            "CancelRate         0\n",
            "AvgDelayMinutes    0\n",
            "dtype: int64\n",
            "\n",
            "Cleaned Data (duplicates removed) with Categorization:\n",
            "\n",
            "         Date    Carrier  Flights  OnTime  CancelRate  AvgDelayMinutes  \\\n",
            "0  2023-01-01      Delta   1200.0    88.5         1.2                9   \n",
            "1  2023-01-01     United    950.0    82.3         2.0               15   \n",
            "2  2023-01-01   American   1050.0    79.6         2.5               18   \n",
            "3  2023-01-01  Southwest   1300.0    91.0         0.8                7   \n",
            "4  2023-01-01     Alaska    800.0    85.2         1.0               12   \n",
            "5  2023-01-01    JetBlue      NaN    77.5         3.2               20   \n",
            "\n",
            "  PerformanceCategory  \n",
            "0                High  \n",
            "1              Medium  \n",
            "2                 Low  \n",
            "3                High  \n",
            "4                High  \n",
            "5                 Low  \n"
          ]
        },
        {
          "output_type": "stream",
          "name": "stderr",
          "text": [
            "/tmp/ipython-input-1-1452729557.py:43: SettingWithCopyWarning: \n",
            "A value is trying to be set on a copy of a slice from a DataFrame.\n",
            "Try using .loc[row_indexer,col_indexer] = value instead\n",
            "\n",
            "See the caveats in the documentation: https://pandas.pydata.org/pandas-docs/stable/user_guide/indexing.html#returning-a-view-versus-a-copy\n",
            "  df_clean[\"PerformanceCategory\"] = df_clean[\"OnTime\"].apply(categorize_ontime)\n"
          ]
        }
      ],
      "source": [
        "import pandas as pd\n",
        "data = {\n",
        "    \"Date\": [\"2023-01-01\"] * 7,\n",
        "    \"Carrier\": [\"Delta\", \"United\", \"American\", \"Southwest\", \"Alaska\", \"JetBlue\", \"Delta\"],\n",
        "    \"Flights\": [1200, 950, 1050, 1300, 800, None, 1200],  # One missing value (None)\n",
        "    \"OnTime\": [88.5, 82.3, 79.6, 91.0, 85.2, 77.5, 88.5],\n",
        "    \"CancelRate\": [1.2, 2.0, 2.5, 0.8, 1.0, 3.2, 1.2],\n",
        "    \"AvgDelayMinutes\": [9, 15, 18, 7, 12, 20, 9]\n",
        "}\n",
        "df = pd.DataFrame(data)\n",
        "print(\"Original Data (with duplicates and one missing value):\\n\")\n",
        "print(df)\n",
        "print(\"\\nNumber of duplicate rows:\", df.duplicated().sum())\n",
        "print(\"\\nCheck for missing values (True means missing):\\n\")\n",
        "print(df.isnull())\n",
        "print(\"\\nTotal missing values per column:\\n\")\n",
        "print(df.isnull().sum())\n",
        "df_clean = df.drop_duplicates()\n",
        "def categorize_ontime(value):\n",
        "    if value >= 85:\n",
        "        return \"High\"\n",
        "    elif value >= 80:\n",
        "        return \"Medium\"\n",
        "    else:\n",
        "        return \"Low\"\n",
        "\n",
        "df_clean[\"PerformanceCategory\"] = df_clean[\"OnTime\"].apply(categorize_ontime)\n",
        "print(\"\\nCleaned Data (duplicates removed) with Categorization:\\n\")\n",
        "print(df_clean)\n"
      ]
    }
  ]
}